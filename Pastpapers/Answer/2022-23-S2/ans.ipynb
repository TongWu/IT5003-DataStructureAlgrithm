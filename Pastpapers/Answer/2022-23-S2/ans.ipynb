{
 "cells": [
  {
   "cell_type": "code",
   "execution_count": 7,
   "outputs": [
    {
     "name": "stdout",
     "output_type": "stream",
     "text": [
      "1 4\n"
     ]
    }
   ],
   "source": [
    "# B1\n",
    "def solution(L):\n",
    "    n = len(L)\n",
    "    left = 0\n",
    "    # 从头开始，找到第一个左侧的数字比右侧数字大的\n",
    "    while left < n-1 and L[left] <= L[left+1]:\n",
    "        left += 1\n",
    "    # 从尾部开始，找到第一个右侧的数字比左侧小的\n",
    "    right = n-1\n",
    "    while right > 0 and L[right] >=L[right-1]:\n",
    "        right -= 1\n",
    "    \n",
    "    # 找出初始区间内最大和最小的数\n",
    "    min_val = min(L[left:right+1])\n",
    "    max_val = max(L[left:right+1])\n",
    "    \n",
    "    # 对于左侧边界，如果边界外还有比区间内最小值还大的值\n",
    "    # 说明包含该值的区间也没有正确排列\n",
    "    while left>0 and L[left-1] > min_val:\n",
    "        left -= 1\n",
    "    # 对于右侧边界，如果边界外还有比区间内最大值还大的值\n",
    "    # 说明包含该值在内的区间没有正确排列\n",
    "    while right<n-1 and L[right+1]<max_val:\n",
    "        right +=1\n",
    "    print(left, right)"
   ],
   "metadata": {
    "collapsed": false,
    "ExecuteTime": {
     "end_time": "2023-12-06T15:10:49.913676Z",
     "start_time": "2023-12-06T15:10:49.910093Z"
    }
   },
   "id": "f4243bed1f1d4799"
  },
  {
   "cell_type": "code",
   "execution_count": 24,
   "outputs": [
    {
     "data": {
      "text/plain": "{1, 2, 3, 4, 5, 6, 8, 9, 10, 12, 15, 16, 18, 20, 24, 25, 27, 30, 32, 36}"
     },
     "execution_count": 24,
     "metadata": {},
     "output_type": "execute_result"
    }
   ],
   "source": [
    "# C1\n",
    "import heapq\n",
    "pq = []\n",
    "result = set()\n",
    "heapq.heappush(pq, 1)\n",
    "result_number = 0\n",
    "while result_number<20:\n",
    "    value = heapq.heappop(pq)\n",
    "    if value not in result:\n",
    "        result.add(value)\n",
    "        result_number += 1\n",
    "    for i in (2,3,5):\n",
    "        heapq.heappush(pq, value*i)\n",
    "result"
   ],
   "metadata": {
    "collapsed": false,
    "ExecuteTime": {
     "end_time": "2023-12-06T16:03:22.103512Z",
     "start_time": "2023-12-06T16:03:22.103027Z"
    }
   },
   "id": "ba126297d8ad5ded"
  },
  {
   "cell_type": "code",
   "execution_count": null,
   "outputs": [],
   "source": [],
   "metadata": {
    "collapsed": false
   },
   "id": "e6181cbe85993d49"
  }
 ],
 "metadata": {
  "kernelspec": {
   "display_name": "Python 3",
   "language": "python",
   "name": "python3"
  },
  "language_info": {
   "codemirror_mode": {
    "name": "ipython",
    "version": 2
   },
   "file_extension": ".py",
   "mimetype": "text/x-python",
   "name": "python",
   "nbconvert_exporter": "python",
   "pygments_lexer": "ipython2",
   "version": "2.7.6"
  }
 },
 "nbformat": 4,
 "nbformat_minor": 5
}
