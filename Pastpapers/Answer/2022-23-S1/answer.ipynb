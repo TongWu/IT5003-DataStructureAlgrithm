{
 "cells": [
  {
   "cell_type": "code",
   "execution_count": 1,
   "id": "initial_id",
   "metadata": {
    "collapsed": true,
    "ExecuteTime": {
     "end_time": "2023-12-06T12:10:49.594188Z",
     "start_time": "2023-12-06T12:10:49.587560Z"
    }
   },
   "outputs": [],
   "source": [
    "# Question B.1\n",
    "def countInversions(A, left, right):\n",
    "    # 如果分到最后，数组不可分割时，返回0\n",
    "    if left >= right:\n",
    "        return 0\n",
    "    mid = (left + right) // 2\n",
    "    inv_count = 0\n",
    "    # 左半部分继续分割\n",
    "    inv_count += countInversions(A, left, mid)\n",
    "    # 右半部分继续分割\n",
    "    inv_count += countInversions(A, mid+1, right)\n",
    "    # \n",
    "    inv_count += mergeCount(A, left, mid, right)\n",
    "    return inv_count\n",
    "\n",
    "def mergeCount(A, left, mid, right):\n",
    "    temp = []\n",
    "    inv_count = 0\n",
    "    i, j = left, mid+1\n",
    "    while i<=mid and j<=right:\n",
    "        if A[i] <= A[j]:\n",
    "            temp.append(A[i])\n",
    "            i += 1\n",
    "        else: # invasion occur\n",
    "            temp.append(A[i])\n",
    "            # 计算逆序对，数量为从i到mid的每个索引都与j形成一个逆序对\n",
    "            inv_count += mid-i+1\n",
    "            j += 1\n",
    "    # 复制剩余的元素到temp\n",
    "    while i<=mid:\n",
    "        temp.append(A[i])\n",
    "        i += 1\n",
    "    while j<=right:\n",
    "        temp.append(A[j])\n",
    "        j += 1\n",
    "    for k in range(left, right+1):\n",
    "        A[k] = temp[k-left]\n",
    "    return inv_count"
   ]
  },
  {
   "cell_type": "code",
   "execution_count": 3,
   "outputs": [
    {
     "data": {
      "text/plain": "[1, 3, 2, 4, 5, 10, 15]"
     },
     "execution_count": 3,
     "metadata": {},
     "output_type": "execute_result"
    }
   ],
   "source": [
    "# C1.2\n",
    "def solution(n, names):\n",
    "    declared_variables = {}  # Dictionary to keep track of variable counts\n",
    "    actual_names = []  # List to store the actual declared variable names\n",
    "\n",
    "    for x in names:\n",
    "        # Check if this base name has been used before\n",
    "        if x in declared_variables:\n",
    "            # 读取乘数\n",
    "            multiplier = declared_variables[x]\n",
    "            # 每次x没有找到对应的空闲插槽，乘数+1\n",
    "            while x*multiplier in declared_variables:\n",
    "                multiplier += 1\n",
    "            declared_variables[x*multiplier] = 1\n",
    "            declared_variables[x] = multiplier\n",
    "            actual_names.append(x*multiplier)\n",
    "        else:\n",
    "            declared_variables[x] = 1\n",
    "            actual_names.append(x)\n",
    "\n",
    "    return actual_names\n",
    "\n",
    "# Example case\n",
    "n = 7\n",
    "names = [1, 3, 1, 2, 1, 5, 5]\n",
    "solution(n, names)"
   ],
   "metadata": {
    "collapsed": false,
    "ExecuteTime": {
     "end_time": "2023-12-06T12:49:38.582166Z",
     "start_time": "2023-12-06T12:49:38.580048Z"
    }
   },
   "id": "4cdf16dd967dbbc0"
  },
  {
   "cell_type": "code",
   "execution_count": 4,
   "outputs": [
    {
     "ename": "KeyboardInterrupt",
     "evalue": "",
     "output_type": "error",
     "traceback": [
      "\u001B[0;31m---------------------------------------------------------------------------\u001B[0m",
      "\u001B[0;31mKeyboardInterrupt\u001B[0m                         Traceback (most recent call last)",
      "Cell \u001B[0;32mIn[4], line 28\u001B[0m\n\u001B[1;32m     26\u001B[0m n \u001B[38;5;241m=\u001B[39m \u001B[38;5;241m7\u001B[39m\n\u001B[1;32m     27\u001B[0m variables \u001B[38;5;241m=\u001B[39m [\u001B[38;5;241m1\u001B[39m, \u001B[38;5;241m3\u001B[39m, \u001B[38;5;241m1\u001B[39m, \u001B[38;5;241m2\u001B[39m, \u001B[38;5;241m1\u001B[39m, \u001B[38;5;241m5\u001B[39m, \u001B[38;5;241m5\u001B[39m]\n\u001B[0;32m---> 28\u001B[0m declared_names_with_heap \u001B[38;5;241m=\u001B[39m declare_variables_with_min_heap(n, variables)\n\u001B[1;32m     29\u001B[0m declared_names_with_heap\n",
      "Cell \u001B[0;32mIn[4], line 21\u001B[0m, in \u001B[0;36mdeclare_variables_with_min_heap\u001B[0;34m(n, variables)\u001B[0m\n\u001B[1;32m     18\u001B[0m             \u001B[38;5;28;01mbreak\u001B[39;00m\n\u001B[1;32m     19\u001B[0m         \u001B[38;5;28;01melse\u001B[39;00m:\n\u001B[1;32m     20\u001B[0m             \u001B[38;5;66;03m# If not the desired variable, push it back with updated multiplier\u001B[39;00m\n\u001B[0;32m---> 21\u001B[0m             heapq\u001B[38;5;241m.\u001B[39mheappush(min_heap, (heap_x, multiplier \u001B[38;5;241m+\u001B[39m \u001B[38;5;241m1\u001B[39m))\n\u001B[1;32m     23\u001B[0m \u001B[38;5;28;01mreturn\u001B[39;00m declared_names\n",
      "\u001B[0;31mKeyboardInterrupt\u001B[0m: "
     ]
    }
   ],
   "source": [],
   "metadata": {
    "collapsed": false,
    "ExecuteTime": {
     "end_time": "2023-12-06T14:36:05.200706Z",
     "start_time": "2023-12-06T14:35:53.382885Z"
    }
   },
   "id": "f93411330c7fce90"
  },
  {
   "cell_type": "code",
   "execution_count": null,
   "outputs": [],
   "source": [],
   "metadata": {
    "collapsed": false
   },
   "id": "f2e518d746caab12"
  }
 ],
 "metadata": {
  "kernelspec": {
   "display_name": "Python 3",
   "language": "python",
   "name": "python3"
  },
  "language_info": {
   "codemirror_mode": {
    "name": "ipython",
    "version": 2
   },
   "file_extension": ".py",
   "mimetype": "text/x-python",
   "name": "python",
   "nbconvert_exporter": "python",
   "pygments_lexer": "ipython2",
   "version": "2.7.6"
  }
 },
 "nbformat": 4,
 "nbformat_minor": 5
}
