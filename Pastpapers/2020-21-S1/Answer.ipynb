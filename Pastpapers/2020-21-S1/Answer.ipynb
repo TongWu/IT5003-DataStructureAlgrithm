{
 "cells": [
  {
   "cell_type": "markdown",
   "source": [
    "## Part A"
   ],
   "metadata": {
    "collapsed": false
   },
   "id": "6b4225003f49bb4b"
  },
  {
   "cell_type": "code",
   "execution_count": 1,
   "outputs": [
    {
     "name": "stdout",
     "output_type": "stream",
     "text": [
      "30\n"
     ]
    }
   ],
   "source": [
    "# A-Q0\n",
    "n = int(input())\n",
    "### print the sum of even integers in [0/1/../n-1]\n",
    "# answer for A-Q0 should be:\n",
    "print(sum(range(0, n, 2)))\n",
    "# the time complexity is O(n), range and sum goes through n (over 2) integers"
   ],
   "metadata": {
    "collapsed": false,
    "ExecuteTime": {
     "end_time": "2023-12-03T07:07:04.668478Z",
     "start_time": "2023-12-03T07:06:53.189914Z"
    }
   },
   "id": "66a923a78e5edcd8"
  },
  {
   "cell_type": "code",
   "execution_count": 4,
   "outputs": [
    {
     "name": "stdout",
     "output_type": "stream",
     "text": [
      "8\n"
     ]
    }
   ],
   "source": [
    "# A-Q1, Sample Input = \"1 4 2 6 9 5 3 8 7 10\", Sample Output = \"8\"\n",
    "L = [1,4,2,6,9,5,3,8,7,10,7] # there are n (7 <= n <= 100000) integers in L\n",
    "### print the first (0-based) index in L with value 7\n",
    "print(L.index(7))"
   ],
   "metadata": {
    "collapsed": false,
    "ExecuteTime": {
     "end_time": "2023-12-03T07:10:17.943470Z",
     "start_time": "2023-12-03T07:10:17.942920Z"
    }
   },
   "id": "c22cb6a6fb49b9f3"
  },
  {
   "cell_type": "code",
   "execution_count": 14,
   "outputs": [
    {
     "name": "stdout",
     "output_type": "stream",
     "text": [
      "[9, 8, 7, 10]\n"
     ]
    }
   ],
   "source": [
    "# A-Q2, Sample Input = \"1 4 2 6 9 5 3 8 7 10\", Sample Output = \"[9, 8, 7, 10]\"\n",
    "L = list(map(int, input().split())) # there are n (7 <= n <= 100000) integers in L\n",
    "### update list L by removing integers in L that is < 7, but preserve the order\n",
    "L = [n for n in L if n >= 7]\n",
    "print(L)"
   ],
   "metadata": {
    "collapsed": false,
    "ExecuteTime": {
     "end_time": "2023-12-03T07:18:16.102213Z",
     "start_time": "2023-12-03T07:18:14.034228Z"
    }
   },
   "id": "f4fff17bcd830c6e"
  },
  {
   "cell_type": "code",
   "execution_count": 19,
   "outputs": [
    {
     "name": "stdout",
     "output_type": "stream",
     "text": [
      "[4, 5, 6, 7, 8, 9, 10]\n"
     ]
    }
   ],
   "source": [
    "# A-Q3, Sample Input = \"1 4 2 6 9 5 3 8 7 10\", Sample Output = \"4,5,6,7,8,9,10\"\n",
    "L = list(map(int, input().split())) # there are n (7 <= n <= 100000) integers in L\n",
    "L.sort()\n",
    "### print seven largest integers in L (comma separated, no [], non-decreasing)\n",
    "print(L[-7:])"
   ],
   "metadata": {
    "collapsed": false,
    "ExecuteTime": {
     "end_time": "2023-12-03T07:19:33.902231Z",
     "start_time": "2023-12-03T07:19:32.945303Z"
    }
   },
   "id": "f06a42cabaabe33f"
  },
  {
   "cell_type": "code",
   "execution_count": 65,
   "outputs": [
    {
     "name": "stdout",
     "output_type": "stream",
     "text": [
      "4,5,6,7,8,9,10\n"
     ]
    }
   ],
   "source": [
    "# A-Q4, Sample Input = \"1 4 2 6 9 5 3 8 7 10\", Sample Output = \"4,5,6,7,8,9,10\"\n",
    "from heapq import heapify, heappop\n",
    "# there are n (7 <= n <= 100000) integers in PQ\n",
    "PQ = list(map(lambda x: -int(x), \"1 4 2 6 9 5 3 8 7 10\".split())) # store negative x instead\n",
    "heapify(PQ) # __doc__ ’Transform list into a heap, in-place, in O(len(heap)) time.’\n",
    "### print seven largest integers in PQ (comma separated, no [], non-decreasing)\n",
    "print(\",\".join(map(str, sorted([-heappop(PQ) for _ in range(7)]))))"
   ],
   "metadata": {
    "collapsed": false,
    "ExecuteTime": {
     "end_time": "2023-12-03T07:46:41.153442Z",
     "start_time": "2023-12-03T07:46:41.151120Z"
    }
   },
   "id": "3b92526eb837d265"
  },
  {
   "cell_type": "code",
   "execution_count": 70,
   "outputs": [
    {
     "name": "stdout",
     "output_type": "stream",
     "text": [
      "4,5,9\n"
     ]
    }
   ],
   "source": [
    "# A-Q5, Sample Input = \"2 3 2 1 1 3 2 8 7 3 6\", Sample Output = \"4,5,9\"\n",
    "# there are n (7 <= n <= 100000) integers in input, but each integer is in [1..9]\n",
    "s = set(map(int, input().split()))\n",
    "### print 1-digit integer(s) not in s (comma separated, no [], non-decreasing)\n",
    "print(\",\".join(map(str, [n for n in range(1,10) if n not in s])))"
   ],
   "metadata": {
    "collapsed": false,
    "ExecuteTime": {
     "end_time": "2023-12-03T07:51:34.930863Z",
     "start_time": "2023-12-03T07:51:34.166905Z"
    }
   },
   "id": "952442efb23dfdb1"
  },
  {
   "cell_type": "code",
   "execution_count": null,
   "outputs": [],
   "source": [],
   "metadata": {
    "collapsed": false
   },
   "id": "c9cbf3a58875f639"
  }
 ],
 "metadata": {
  "kernelspec": {
   "display_name": "Python 3",
   "language": "python",
   "name": "python3"
  },
  "language_info": {
   "codemirror_mode": {
    "name": "ipython",
    "version": 2
   },
   "file_extension": ".py",
   "mimetype": "text/x-python",
   "name": "python",
   "nbconvert_exporter": "python",
   "pygments_lexer": "ipython2",
   "version": "2.7.6"
  }
 },
 "nbformat": 4,
 "nbformat_minor": 5
}
