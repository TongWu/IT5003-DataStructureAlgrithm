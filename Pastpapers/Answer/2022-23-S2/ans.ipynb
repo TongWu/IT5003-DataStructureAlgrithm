{
 "cells": [
  {
   "cell_type": "code",
   "execution_count": 7,
   "outputs": [
    {
     "name": "stdout",
     "output_type": "stream",
     "text": [
      "1 4\n"
     ]
    }
   ],
   "source": [
    "# B1\n",
    "def solution(L):\n",
    "    n = len(L)\n",
    "    left = 0\n",
    "    # 从头开始，找到第一个左侧的数字比右侧数字大的\n",
    "    while left < n-1 and L[left] <= L[left+1]:\n",
    "        left += 1\n",
    "    # 从尾部开始，找到第一个右侧的数字比左侧小的\n",
    "    right = n-1\n",
    "    while right > 0 and L[right] >=L[right-1]:\n",
    "        right -= 1\n",
    "    \n",
    "    # 找出初始区间内最大和最小的数\n",
    "    min_val = min(L[left:right+1])\n",
    "    max_val = max(L[left:right+1])\n",
    "    \n",
    "    # 对于左侧边界，如果边界外还有比区间内最小值还大的值\n",
    "    # 说明包含该值的区间也没有正确排列\n",
    "    while left>0 and L[left-1] > min_val:\n",
    "        left -= 1\n",
    "    # 对于右侧边界，如果边界外还有比区间内最大值还大的值\n",
    "    # 说明包含该值在内的区间没有正确排列\n",
    "    while right<n-1 and L[right+1]<max_val:\n",
    "        right +=1\n",
    "    print(left, right)"
   ],
   "metadata": {
    "collapsed": false,
    "ExecuteTime": {
     "end_time": "2023-12-06T15:10:49.913676Z",
     "start_time": "2023-12-06T15:10:49.910093Z"
    }
   },
   "id": "f4243bed1f1d4799"
  },
  {
   "cell_type": "code",
   "execution_count": 24,
   "outputs": [
    {
     "data": {
      "text/plain": "{1, 2, 3, 4, 5, 6, 8, 9, 10, 12, 15, 16, 18, 20, 24, 25, 27, 30, 32, 36}"
     },
     "execution_count": 24,
     "metadata": {},
     "output_type": "execute_result"
    }
   ],
   "source": [
    "# C1\n",
    "import heapq\n",
    "pq = []\n",
    "result = set()\n",
    "heapq.heappush(pq, 1)\n",
    "result_number = 0\n",
    "while result_number<20:\n",
    "    value = heapq.heappop(pq)\n",
    "    if value not in result:\n",
    "        result.add(value)\n",
    "        result_number += 1\n",
    "    for i in (2,3,5):\n",
    "        heapq.heappush(pq, value*i)\n",
    "result"
   ],
   "metadata": {
    "collapsed": false,
    "ExecuteTime": {
     "end_time": "2023-12-06T16:03:22.103512Z",
     "start_time": "2023-12-06T16:03:22.103027Z"
    }
   },
   "id": "ba126297d8ad5ded"
  },
  {
   "cell_type": "code",
   "execution_count": 29,
   "outputs": [
    {
     "name": "stdout",
     "output_type": "stream",
     "text": [
      "5\n"
     ]
    }
   ],
   "source": [
    "# C2\n",
    "def solution():\n",
    "    R = int(input())\n",
    "    dict = {}\n",
    "    for _ in range(R):\n",
    "        lst = list(map(int, input().split()))\n",
    "        for i in range(0, len(lst)-1):\n",
    "            current_sum = sum(lst[0:i+1])\n",
    "            if current_sum not in dict:\n",
    "                dict[current_sum] = 1\n",
    "            else:\n",
    "                dict[current_sum] += 1\n",
    "    for key, value in dict.items():\n",
    "        if value == max(dict.values()):\n",
    "            return key\n",
    "print(solution())"
   ],
   "metadata": {
    "collapsed": false,
    "ExecuteTime": {
     "end_time": "2023-12-06T16:28:33.881890Z",
     "start_time": "2023-12-06T16:27:38.321702Z"
    }
   },
   "id": "e6181cbe85993d49"
  },
  {
   "cell_type": "code",
   "execution_count": 39,
   "outputs": [
    {
     "name": "stdout",
     "output_type": "stream",
     "text": [
      "1 0\n",
      "2 0\n",
      "3 0\n",
      "4 0\n",
      "5 0\n",
      "6 0\n",
      "7 0\n",
      "{'A': [(1, 0), (2, 0), (3, 0), (4, 0), (5, 0), (6, 0), (7, 0)]}\n"
     ]
    }
   ],
   "source": [
    "# C3\n",
    "from collections import deque\n",
    "def solution(r, c, map):\n",
    "    # 将所有陆地格子初始化为无限大，海洋格子初始化为0\n",
    "    distance = [[float('inf') if map[i][j] != '~' else 0 for j in range(c)] for i in range(r)]\n",
    "    queue = deque()\n",
    "    \n",
    "    # BFS\n",
    "    for unit in map:\n",
    "        # 如果单元格是海洋，放入队列中\n",
    "        if unit == '~': queue.append((x, y))\n",
    "        # 更新所有临海的单元格到海的距离为1\n",
    "        if unit is not '~' and unit is adjacency with '~':\n",
    "            distance[x][y] = 1\n",
    "    while queue:\n",
    "        x, y = queue.popleft()\n",
    "        for each unit in adjacency units:\n",
    "            # 更新陆地单元格到海的距离为目前最短\n",
    "            if distance[unit_x][unit_y] > distance[x][y] + 1:\n",
    "                distance[unit_x][unit_y] = distance[x][y] + 1\n",
    "                queue.append((unit_x, unit_y))\n",
    "                \n",
    "    country_distance = {}\n",
    "    for each unit in distance:\n",
    "        if map[i][j] is not '~':\n",
    "            country = map[i][j]\n",
    "            if country not in country_distance or country_distance[country] > distance[i][j]:\n",
    "                country_distance[country] = distance[i][j]\n",
    "    # 读取离海最远的国家\n",
    "    most_landlocked = max(country_distance, key=lambda k: (country_distance[k], k))\n",
    "    return most_landlocked, country_distance[most_landlocked]"
   ],
   "metadata": {
    "collapsed": false,
    "ExecuteTime": {
     "end_time": "2023-12-06T16:56:25.310468Z",
     "start_time": "2023-12-06T16:56:25.306063Z"
    }
   },
   "id": "d8be8f11dae55a0e"
  },
  {
   "cell_type": "code",
   "execution_count": 40,
   "outputs": [
    {
     "name": "stdout",
     "output_type": "stream",
     "text": [
      "4\n"
     ]
    }
   ],
   "source": [
    "def last_non_zero_digit_of_factorial(n):\n",
    "    result = 1\n",
    "    for i in range(1, n + 1):\n",
    "        if i % 5 != 0:\n",
    "            result *= i\n",
    "        result %= 10  # 仅保留个位数字\n",
    "\n",
    "    # 考虑 5 的因子\n",
    "    count_of_five = n // 5 + n // 25  # 包括 25 的额外 5\n",
    "    while count_of_five:\n",
    "        result *= 4  # 2 的平方，平衡跳过的每个 5\n",
    "        result %= 10\n",
    "        count_of_five -= 1\n",
    "\n",
    "    return result\n",
    "\n",
    "# 计算 25!\n",
    "print(last_non_zero_digit_of_factorial(25))"
   ],
   "metadata": {
    "collapsed": false,
    "ExecuteTime": {
     "end_time": "2023-12-07T05:20:08.273488Z",
     "start_time": "2023-12-07T05:20:08.265594Z"
    }
   },
   "id": "d39d50fe204002dd"
  },
  {
   "cell_type": "code",
   "execution_count": 45,
   "outputs": [
    {
     "name": "stdout",
     "output_type": "stream",
     "text": [
      "Impossible\n"
     ]
    }
   ],
   "source": [
    "def count_factors_in_factorial(n, p):\n",
    "    count = 0\n",
    "    i = p\n",
    "    while n // i >= 1:\n",
    "        count += n // i\n",
    "        i *= p\n",
    "    return count\n",
    "\n",
    "def prime_factors(n):\n",
    "    factors = []\n",
    "    while n % 2 == 0:\n",
    "        factors.append(2)\n",
    "        n //= 2\n",
    "    for i in range(3, int(n**0.5) + 1, 2):\n",
    "        while n % i == 0:\n",
    "            factors.append(i)\n",
    "            n //= i\n",
    "    if n > 2:\n",
    "        factors.append(n)\n",
    "    return factors\n",
    "\n",
    "# 找出 9317 的质因数\n",
    "factors = prime_factors(9317)\n",
    "\n",
    "# 用于检查 25! 是否可被 9317 整除\n",
    "n = 25\n",
    "can_divide = True\n",
    "for factor in set(factors):\n",
    "    required_count = factors.count(factor)\n",
    "    count_in_factorial = count_factors_in_factorial(n, factor)\n",
    "    if count_in_factorial < required_count:\n",
    "        can_divide = False\n",
    "        break\n",
    "\n",
    "if can_divide:\n",
    "    print(\"Possible\")\n",
    "else:\n",
    "    print(\"Impossible\")"
   ],
   "metadata": {
    "collapsed": false,
    "ExecuteTime": {
     "end_time": "2023-12-07T05:53:41.896579Z",
     "start_time": "2023-12-07T05:53:41.896199Z"
    }
   },
   "id": "930936e20e0f7a37"
  },
  {
   "cell_type": "code",
   "execution_count": null,
   "outputs": [],
   "source": [],
   "metadata": {
    "collapsed": false
   },
   "id": "765b20cd6e601331"
  }
 ],
 "metadata": {
  "kernelspec": {
   "display_name": "Python 3",
   "language": "python",
   "name": "python3"
  },
  "language_info": {
   "codemirror_mode": {
    "name": "ipython",
    "version": 2
   },
   "file_extension": ".py",
   "mimetype": "text/x-python",
   "name": "python",
   "nbconvert_exporter": "python",
   "pygments_lexer": "ipython2",
   "version": "2.7.6"
  }
 },
 "nbformat": 4,
 "nbformat_minor": 5
}
