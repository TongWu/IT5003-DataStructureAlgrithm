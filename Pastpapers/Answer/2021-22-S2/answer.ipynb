{
 "cells": [
  {
   "cell_type": "code",
   "execution_count": null,
   "id": "initial_id",
   "metadata": {
    "collapsed": true
   },
   "outputs": [],
   "source": [
    "# Problem 12\n",
    "L = list(map(int, input().split()))\n",
    "L.sort()\n",
    "N = len(L)\n",
    "found = False\n",
    "\n",
    "for i in range(N-2):\n",
    "    if i > 0 and L[i] == L[i-1]:  # 跳过重复元素\n",
    "        continue\n",
    "\n",
    "    left, right = i + 1, N - 1\n",
    "    while left < right:\n",
    "        total = L[i] + L[left] + L[right]\n",
    "        if total < 0:\n",
    "            left += 1\n",
    "        elif total > 0:\n",
    "            right -= 1\n",
    "        else:\n",
    "            print(L[i], L[left], L[right])\n",
    "            found = True\n",
    "            # 消除相同项，确保找到的是不重复的三元组\n",
    "            while left < right and L[left] == L[left + 1]:\n",
    "                left += 1\n",
    "            while left < right and L[right] == L[right - 1]:\n",
    "                right -= 1\n",
    "            left += 1\n",
    "            right -= 1\n",
    "\n",
    "    if found:\n",
    "        break\n",
    "\n",
    "if not found:\n",
    "    print(\"No such triple\")"
   ]
  }
 ],
 "metadata": {
  "kernelspec": {
   "display_name": "Python 3",
   "language": "python",
   "name": "python3"
  },
  "language_info": {
   "codemirror_mode": {
    "name": "ipython",
    "version": 2
   },
   "file_extension": ".py",
   "mimetype": "text/x-python",
   "name": "python",
   "nbconvert_exporter": "python",
   "pygments_lexer": "ipython2",
   "version": "2.7.6"
  }
 },
 "nbformat": 4,
 "nbformat_minor": 5
}
