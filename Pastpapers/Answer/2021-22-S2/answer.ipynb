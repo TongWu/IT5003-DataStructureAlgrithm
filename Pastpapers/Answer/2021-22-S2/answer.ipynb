{
 "cells": [
  {
   "cell_type": "code",
   "execution_count": null,
   "id": "initial_id",
   "metadata": {
    "collapsed": true,
    "is_executing": true
   },
   "outputs": [],
   "source": [
    "# Problem 12\n",
    "L = list(map(int, input().split()))\n",
    "L.sort()\n",
    "N = len(L)\n",
    "found = False\n",
    "\n",
    "for i in range(N-2):\n",
    "    if i > 0 and L[i] == L[i-1]:  # 跳过重复元素\n",
    "        continue\n",
    "\n",
    "    left, right = i + 1, N - 1\n",
    "    while left < right:\n",
    "        total = L[i] + L[left] + L[right]\n",
    "        if total < 0:\n",
    "            left += 1\n",
    "        elif total > 0:\n",
    "            right -= 1\n",
    "        else:\n",
    "            print(L[i], L[left], L[right])\n",
    "            found = True\n",
    "            # 消除相同项，确保找到的是不重复的三元组\n",
    "            while left < right and L[left] == L[left + 1]:\n",
    "                left += 1\n",
    "            while left < right and L[right] == L[right - 1]:\n",
    "                right -= 1\n",
    "            left += 1\n",
    "            right -= 1\n",
    "\n",
    "    if found:\n",
    "        break\n",
    "\n",
    "if not found:\n",
    "    print(\"No such triple\")"
   ]
  },
  {
   "cell_type": "code",
   "execution_count": null,
   "outputs": [],
   "source": [
    "def final_queue(candidates):\n",
    "    if not candidates:\n",
    "        return []\n",
    "\n",
    "    # 找到最大值\n",
    "    max_value = max(candidates)\n",
    "\n",
    "    # 提取所有最大值候选人\n",
    "    return [candidate for candidate in candidates if candidate == max_value]\n",
    "\n",
    "# 示例\n",
    "print(final_queue([8, 1, 2, 3, 5, 6, 7]))  # 输出 [8]\n",
    "print(final_queue([2, 2]))  # 输出 [2, 2]\n"
   ],
   "metadata": {
    "collapsed": false,
    "is_executing": true
   },
   "id": "3c18efab75d42288"
  },
  {
   "cell_type": "code",
   "execution_count": null,
   "outputs": [],
   "source": [
    "# Question 14\n",
    "def solution(EdgeList, V, E):\n",
    "    i = len(V)\n",
    "    j = 2\n",
    "    # 创建一个dp二维数组，其中i为节点数量，j为2表示奇偶数\n",
    "    dp = create2DArray with dimension [i][j]\n",
    "    # 将二维数组中的每个元素初始化为无限大\n",
    "    for each element in dp:\n",
    "        element = INF\n",
    "    # 起点到起点距离为0\n",
    "    # 只初始化偶数边选项，因为起始-起始需要0条边，在后续的计算中，\n",
    "    # 使用此选项加上出发的边可以得到奇数边\n",
    "    dp[0][0] = 0\n",
    "    # 对每个节点检测\n",
    "    for i in range(1, V+1):\n",
    "        for (u, v, w) in EdgeList:\n",
    "            # Relax even edge\n",
    "            # 即从出发节点的奇数边选项+边=偶数边\n",
    "            if dp[u][1] + w < dp[v][0]:\n",
    "                dp[v][0] = dp[u][1] + w\n",
    "\n",
    "            # Relax odd edge\n",
    "            if dp[u][0] + w < dp[v][1]:\n",
    "                dp[v][1] = dp[u][0] + w\n",
    "\n",
    "    if dp[V-1][0] == INF:\n",
    "        return -1\n",
    "    else:\n",
    "        return dp[V-1][0]"
   ],
   "metadata": {
    "collapsed": false
   },
   "id": "5b168b515a833b95"
  },
  {
   "cell_type": "code",
   "execution_count": null,
   "outputs": [],
   "source": [
    "# Question 15\n",
    "def solution(R, C, F, D):\n",
    "    # R for num of row\n",
    "    # C for num of col\n",
    "    # F for pos of fruit\n",
    "    # D for num of days\n",
    "    if F.row()-0>=D and R-F.row()>=D and F.col()-0>=D and C-F.col()>=D:\n",
    "        print(\"STILL ALIVE\")\n",
    "        return\n",
    "    else:\n",
    "        print(min(F.row()-0, R-F.row(), F.col()-0, C-F.col()))\n",
    "        return"
   ],
   "metadata": {
    "collapsed": false
   },
   "id": "e070fa73c385bf64"
  },
  {
   "cell_type": "code",
   "execution_count": null,
   "outputs": [],
   "source": [
    "# Question 16\n",
    "def solution(N, X, D):\n",
    "    # N for num of col & row\n",
    "    # X for num of seeds and pos\n",
    "    # D for num of days\n",
    "    # 创建一个N*N的矩阵，全部初始化为未访问\n",
    "    grid = create2DArray(N, N, \"empty\")\n",
    "    # 对于每个种子，读取初始坐标放入矩阵中\n",
    "    for (row, col) in X:\n",
    "        grid[row][col] = \"visited\"\n",
    "    # 记录种子的存活时间\n",
    "    day = [None for i in range(len(X))]\n",
    "    # 每天更新种子根的状态\n",
    "    for i in range(1, D+1):\n",
    "        for (row, col) in X:\n",
    "            # 四个方向的位置\n",
    "            right_dir = grid[row+i][col]\n",
    "            left_dir = grid[row-i][col]\n",
    "            up_dir = grid[row][col+1]\n",
    "            down_dir = grid[row][col-1]\n",
    "            all_dir = set(right_dir, left_dir, up_dir, down_dir)\n",
    "            # 如果四个方向中有一个方向超出边界或触碰到其他的根，则死亡\n",
    "            if not isInBoundary(all_dir) or freeBlock(all_dir):\n",
    "                day[X] = i\n",
    "                remove this seed from X (turn it into null)\n",
    "            else:\n",
    "                right_dir, left_dir, up_dir, down_dir = \"visited\"\n",
    "    for i in range(len(X)):\n",
    "        if day[X] == None:\n",
    "            day[X] = \"STILL ALIVE\"\n",
    "    print(day)\n",
    "            \n",
    "    \n",
    "        \n",
    "    "
   ],
   "metadata": {
    "collapsed": false
   },
   "id": "af74d7d10b04380b"
  }
 ],
 "metadata": {
  "kernelspec": {
   "display_name": "Python 3",
   "language": "python",
   "name": "python3"
  },
  "language_info": {
   "codemirror_mode": {
    "name": "ipython",
    "version": 2
   },
   "file_extension": ".py",
   "mimetype": "text/x-python",
   "name": "python",
   "nbconvert_exporter": "python",
   "pygments_lexer": "ipython2",
   "version": "2.7.6"
  }
 },
 "nbformat": 4,
 "nbformat_minor": 5
}
