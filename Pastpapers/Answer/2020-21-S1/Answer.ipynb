{
 "cells": [
  {
   "cell_type": "markdown",
   "source": [
    "## Part A"
   ],
   "metadata": {
    "collapsed": false
   },
   "id": "6b4225003f49bb4b"
  },
  {
   "cell_type": "code",
   "execution_count": 1,
   "outputs": [
    {
     "name": "stdout",
     "output_type": "stream",
     "text": [
      "30\n"
     ]
    }
   ],
   "source": [
    "# A-Q0\n",
    "n = int(input())\n",
    "### print the sum of even integers in [0/1/../n-1]\n",
    "# answer for A-Q0 should be:\n",
    "print(sum(range(0, n, 2)))\n",
    "# the time complexity is O(n), range and sum goes through n (over 2) integers"
   ],
   "metadata": {
    "collapsed": false,
    "ExecuteTime": {
     "end_time": "2023-12-03T07:07:04.668478Z",
     "start_time": "2023-12-03T07:06:53.189914Z"
    }
   },
   "id": "66a923a78e5edcd8"
  },
  {
   "cell_type": "code",
   "execution_count": 4,
   "outputs": [
    {
     "name": "stdout",
     "output_type": "stream",
     "text": [
      "8\n"
     ]
    }
   ],
   "source": [
    "# A-Q1, Sample Input = \"1 4 2 6 9 5 3 8 7 10\", Sample Output = \"8\"\n",
    "L = [1,4,2,6,9,5,3,8,7,10,7] # there are n (7 <= n <= 100000) integers in L\n",
    "### print the first (0-based) index in L with value 7\n",
    "print(L.index(7))"
   ],
   "metadata": {
    "collapsed": false,
    "ExecuteTime": {
     "end_time": "2023-12-03T07:10:17.943470Z",
     "start_time": "2023-12-03T07:10:17.942920Z"
    }
   },
   "id": "c22cb6a6fb49b9f3"
  },
  {
   "cell_type": "code",
   "execution_count": 5,
   "outputs": [
    {
     "name": "stdout",
     "output_type": "stream",
     "text": [
      "[9, 8, 7, 10]\n"
     ]
    }
   ],
   "source": [
    "# A-Q2, Sample Input = \"1 4 2 6 9 5 3 8 7 10\", Sample Output = \"[9, 8, 7, 10]\"\n",
    "L = list(map(int, input().split())) # there are n (7 <= n <= 100000) integers in L\n",
    "### update list L by removing integers in L that is < 7, but preserve the order\n",
    "L = [n for n in L if n >= 7]\n",
    "print(L)"
   ],
   "metadata": {
    "collapsed": false,
    "ExecuteTime": {
     "end_time": "2023-12-04T07:34:04.456189Z",
     "start_time": "2023-12-04T07:34:03.360682Z"
    }
   },
   "id": "f4fff17bcd830c6e"
  },
  {
   "cell_type": "code",
   "execution_count": 19,
   "outputs": [
    {
     "name": "stdout",
     "output_type": "stream",
     "text": [
      "[4, 5, 6, 7, 8, 9, 10]\n"
     ]
    }
   ],
   "source": [
    "# A-Q3, Sample Input = \"1 4 2 6 9 5 3 8 7 10\", Sample Output = \"4,5,6,7,8,9,10\"\n",
    "L = list(map(int, input().split())) # there are n (7 <= n <= 100000) integers in L\n",
    "L.sort()\n",
    "### print seven largest integers in L (comma separated, no [], non-decreasing)\n",
    "print(L[-7:])"
   ],
   "metadata": {
    "collapsed": false,
    "ExecuteTime": {
     "end_time": "2023-12-03T07:19:33.902231Z",
     "start_time": "2023-12-03T07:19:32.945303Z"
    }
   },
   "id": "f06a42cabaabe33f"
  },
  {
   "cell_type": "code",
   "execution_count": 65,
   "outputs": [
    {
     "name": "stdout",
     "output_type": "stream",
     "text": [
      "4,5,6,7,8,9,10\n"
     ]
    }
   ],
   "source": [
    "# A-Q4, Sample Input = \"1 4 2 6 9 5 3 8 7 10\", Sample Output = \"4,5,6,7,8,9,10\"\n",
    "from heapq import heapify, heappop\n",
    "# there are n (7 <= n <= 100000) integers in PQ\n",
    "PQ = list(map(lambda x: -int(x), \"1 4 2 6 9 5 3 8 7 10\".split())) # store negative x instead\n",
    "heapify(PQ) # __doc__ ’Transform list into a heap, in-place, in O(len(heap)) time.’\n",
    "### print seven largest integers in PQ (comma separated, no [], non-decreasing)\n",
    "print(\",\".join(map(str, sorted([-heappop(PQ) for _ in range(7)]))))"
   ],
   "metadata": {
    "collapsed": false,
    "ExecuteTime": {
     "end_time": "2023-12-03T07:46:41.153442Z",
     "start_time": "2023-12-03T07:46:41.151120Z"
    }
   },
   "id": "3b92526eb837d265"
  },
  {
   "cell_type": "code",
   "execution_count": 70,
   "outputs": [
    {
     "name": "stdout",
     "output_type": "stream",
     "text": [
      "4,5,9\n"
     ]
    }
   ],
   "source": [
    "# A-Q5, Sample Input = \"2 3 2 1 1 3 2 8 7 3 6\", Sample Output = \"4,5,9\"\n",
    "# there are n (7 <= n <= 100000) integers in input, but each integer is in [1..9]\n",
    "s = set(map(int, input().split()))\n",
    "### print 1-digit integer(s) not in s (comma separated, no [], non-decreasing)\n",
    "print(\",\".join(map(str, [n for n in range(1,10) if n not in s])))"
   ],
   "metadata": {
    "collapsed": false,
    "ExecuteTime": {
     "end_time": "2023-12-03T07:51:34.930863Z",
     "start_time": "2023-12-03T07:51:34.166905Z"
    }
   },
   "id": "952442efb23dfdb1"
  },
  {
   "cell_type": "markdown",
   "source": [
    "## Part C"
   ],
   "metadata": {
    "collapsed": false
   },
   "id": "25d777de343a1409"
  },
  {
   "cell_type": "code",
   "execution_count": 1,
   "outputs": [
    {
     "name": "stdout",
     "output_type": "stream",
     "text": [
      "11\n"
     ]
    }
   ],
   "source": [
    "# C1: Efficient Additions\n",
    "## Since we need to calculate the minimum cost of addition, so we need to optimise in each step\n",
    "## The optimisation is to add two smallest number in each step\n",
    "## The heapq (minimum heap) can do this\n",
    "import heapq\n",
    "def solution():\n",
    "    N = int(input())\n",
    "    M = list(map(int, input().split()))\n",
    "    total_cost = 0\n",
    "    heapq.heapify(M) # heapify the list, let the smallest items on the top\n",
    "    while len(M) > 1:\n",
    "        # Pop out two smallest number in first loop\n",
    "        # After first loop, pop out the cost and one smallest number\n",
    "        num1 = heapq.heappop(M)\n",
    "        num2 = heapq.heappop(M)\n",
    "        cost = num1 + num2\n",
    "        total_cost += cost\n",
    "        # Push back the cost\n",
    "        heapq.heappush(M, cost)\n",
    "    return total_cost\n",
    "print(solution())"
   ],
   "metadata": {
    "collapsed": false,
    "ExecuteTime": {
     "end_time": "2023-12-04T06:11:16.368465Z",
     "start_time": "2023-12-04T06:11:05.977200Z"
    }
   },
   "id": "7897c9104b581cbe"
  },
  {
   "cell_type": "code",
   "execution_count": 2,
   "outputs": [
    {
     "name": "stdout",
     "output_type": "stream",
     "text": [
      "Go Ahead\n"
     ]
    }
   ],
   "source": [
    "# C2 - Subtask 1\n",
    "def isValidPlan():\n",
    "    n = 5 # Number of tasks\n",
    "    m = 3 # Number of dependencies\n",
    "    dependencies = [(1,2), (1,3)]\n",
    "    plan = [1,3,2]\n",
    "    #Add dictionary for pre-requests for each task\n",
    "    prereq = {i: set() for i in range(1, n+1)}\n",
    "    \n",
    "    for u, v in dependencies:\n",
    "        prereq[v].add(u)\n",
    "    \n",
    "    completed = set()\n",
    "    for task in plan:\n",
    "        if not prereq[task].issubset(completed):\n",
    "            print(\"Invalid\")\n",
    "            return\n",
    "        completed.add(task)\n",
    "    print(\"Go Ahead\")\n",
    "    return\n",
    "isValidPlan()"
   ],
   "metadata": {
    "collapsed": false,
    "ExecuteTime": {
     "end_time": "2023-12-04T07:25:44.687399Z",
     "start_time": "2023-12-04T07:25:44.681405Z"
    }
   },
   "id": "c47d5e727ef12c35"
  },
  {
   "cell_type": "code",
   "execution_count": 3,
   "outputs": [
    {
     "name": "stdout",
     "output_type": "stream",
     "text": [
      "[1, 2, 3, 4, 5]\n"
     ]
    }
   ],
   "source": [
    "from collections import deque\n",
    "\n",
    "def find_valid_order(n, dependencies):\n",
    "    adj_list = {i: [] for i in range(1, n + 1)}\n",
    "    in_degree = {i: 0 for i in range(1, n + 1)}\n",
    "\n",
    "    # 填充邻接列表和入度列表\n",
    "    for u, v in dependencies:\n",
    "        adj_list[u].append(v)\n",
    "        in_degree[v] += 1\n",
    "\n",
    "    # 使用 Kahn 算法进行拓扑排序\n",
    "    queue = deque([v for v in in_degree if in_degree[v] == 0])\n",
    "    valid_order = []\n",
    "\n",
    "    while queue:\n",
    "        vertex = queue.popleft()\n",
    "        valid_order.append(vertex)\n",
    "\n",
    "        for neighbour in adj_list[vertex]:\n",
    "            in_degree[neighbour] -= 1\n",
    "            if in_degree[neighbour] == 0:\n",
    "                queue.append(neighbour)\n",
    "\n",
    "    if len(valid_order) != n:\n",
    "        return \"不存在有效排序\"\n",
    "    return valid_order\n",
    "\n",
    "# 示例使用\n",
    "n = 5\n",
    "dependencies = [(1, 2), (2, 3), (1, 3), (3, 4), (4, 5)]\n",
    "print(find_valid_order(n, dependencies))"
   ],
   "metadata": {
    "collapsed": false,
    "ExecuteTime": {
     "end_time": "2023-12-04T07:29:08.120297Z",
     "start_time": "2023-12-04T07:29:08.119555Z"
    }
   },
   "id": "eb079f6a99623855"
  },
  {
   "cell_type": "code",
   "execution_count": null,
   "outputs": [],
   "source": [
    "def subtask3():\n",
    "    if isValidPlan():\n",
    "        return \"Go Ahead\"\n",
    "    else:\n",
    "        return find_valid_order()"
   ],
   "metadata": {
    "collapsed": false
   },
   "id": "b4d41f41eb8d7651"
  }
 ],
 "metadata": {
  "kernelspec": {
   "display_name": "Python 3",
   "language": "python",
   "name": "python3"
  },
  "language_info": {
   "codemirror_mode": {
    "name": "ipython",
    "version": 2
   },
   "file_extension": ".py",
   "mimetype": "text/x-python",
   "name": "python",
   "nbconvert_exporter": "python",
   "pygments_lexer": "ipython2",
   "version": "2.7.6"
  }
 },
 "nbformat": 4,
 "nbformat_minor": 5
}
